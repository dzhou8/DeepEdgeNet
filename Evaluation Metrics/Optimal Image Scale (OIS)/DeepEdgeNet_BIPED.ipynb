{
 "cells": [
  {
   "cell_type": "code",
   "execution_count": 10,
   "metadata": {
    "colab": {
     "base_uri": "https://localhost:8080/"
    },
    "executionInfo": {
     "elapsed": 1074,
     "status": "ok",
     "timestamp": 1604302929925,
     "user": {
      "displayName": "Dean Zhou",
      "photoUrl": "",
      "userId": "07778492507507851092"
     },
     "user_tz": 480
    },
    "id": "UfYnudJHgITi",
    "outputId": "f6a22828-2e77-4a5a-908a-85b0bd7791bf"
   },
   "outputs": [
    {
     "name": "stdout",
     "output_type": "stream",
     "text": [
      "Drive already mounted at /content/drive; to attempt to forcibly remount, call drive.mount(\"/content/drive\", force_remount=True).\n"
     ]
    }
   ],
   "source": [
    "from google.colab import drive\n",
    "drive.mount('/content/drive')"
   ]
  },
  {
   "cell_type": "code",
   "execution_count": 1,
   "metadata": {
    "executionInfo": {
     "elapsed": 1417,
     "status": "ok",
     "timestamp": 1604302930273,
     "user": {
      "displayName": "Dean Zhou",
      "photoUrl": "",
      "userId": "07778492507507851092"
     },
     "user_tz": 480
    },
    "id": "CNGBDx8Bipls"
   },
   "outputs": [],
   "source": [
    "import os\n",
    "import imageio\n",
    "import numpy as np"
   ]
  },
  {
   "cell_type": "code",
   "execution_count": 2,
   "metadata": {
    "executionInfo": {
     "elapsed": 1415,
     "status": "ok",
     "timestamp": 1604302930274,
     "user": {
      "displayName": "Dean Zhou",
      "photoUrl": "",
      "userId": "07778492507507851092"
     },
     "user_tz": 480
    },
    "id": "mE32AuNAhB0x"
   },
   "outputs": [],
   "source": [
    "import sklearn.metrics\n",
    "\n",
    "def flatten(nested_list):\n",
    "    return np.asarray(nested_list).flatten()\n",
    "\n",
    "def OIS(label, output):\n",
    "\tlabel_matrix = flatten(label.astype('float'))\n",
    "\tlabel_matrix = (label_matrix == 255)\n",
    "\toutput_matrix = flatten(output.astype('float'))\n",
    "\tOIS_results = []\n",
    "\tfor threshold in range(256):\n",
    "\t\tthreshold_matrix = (output_matrix >= threshold)\n",
    "\t\tOIS_result = sklearn.metrics.f1_score(label_matrix, threshold_matrix)\n",
    "\t\tOIS_results.append(OIS_result)\n",
    "\t\t# print(OIS_result)\n",
    "\t\n",
    "\treturn max(OIS_results)"
   ]
  },
  {
   "cell_type": "code",
   "execution_count": 4,
   "metadata": {
    "colab": {
     "base_uri": "https://localhost:8080/"
    },
    "executionInfo": {
     "elapsed": 1920403,
     "status": "ok",
     "timestamp": 1604309863734,
     "user": {
      "displayName": "Dean Zhou",
      "photoUrl": "",
      "userId": "07778492507507851092"
     },
     "user_tz": 480
    },
    "id": "8Fwe6cY2gThb",
    "outputId": "41abf2a4-2807-493d-b923-cb1e6ce224ee"
   },
   "outputs": [
    {
     "name": "stdout",
     "output_type": "stream",
     "text": [
      "20:28:05 RGB_008.png 0.04552800010179542\n",
      "20:28:55 RGB_010.png 0.07874117520750575\n",
      "20:29:46 RGB_017.png 0.06188875418099764\n",
      "20:30:37 RGB_025.png 0.0837267522432935\n",
      "20:31:28 RGB_029.png 0.10264376086640993\n",
      "20:32:19 RGB_033.png 0.07836060138805918\n",
      "20:33:09 RGB_035.png 0.06432506568818747\n",
      "20:34:00 RGB_039.png 0.07182534285983284\n",
      "20:34:52 RGB_042.png 0.06372520697403489\n",
      "20:35:43 RGB_052.png 0.05184304399524376\n",
      "20:36:35 RGB_056.png 0.08415897156589237\n",
      "20:37:27 RGB_057.png 0.08810166917686305\n",
      "20:38:19 RGB_059.png 0.05395954617728479\n",
      "20:39:10 RGB_066.png 0.05130135262860756\n",
      "20:40:01 RGB_067.png 0.056975155593786374\n",
      "20:40:52 RGB_070.png 0.047825727775906664\n",
      "20:41:44 RGB_071.png 0.09630829229599762\n",
      "20:42:35 RGB_075.png 0.04324147580698241\n",
      "20:43:26 RGB_081.png 0.058450826622566086\n",
      "20:44:18 RGB_083.png 0.06139749344754037\n",
      "20:45:09 RGB_090.png 0.07096972703468109\n",
      "20:45:58 RGB_092.png 0.08191630180226046\n",
      "20:46:46 RGB_094.png 0.0493277101930882\n",
      "20:47:34 RGB_098.png 0.0765779115342714\n",
      "20:48:22 RGB_102.png 0.04662785780824269\n",
      "20:49:11 RGB_107.png 0.0780660539668041\n",
      "20:49:59 RGB_111.png 0.07301669278562624\n",
      "20:50:47 RGB_120.png 0.045100979782831424\n",
      "20:51:35 RGB_124.png 0.0803619317607826\n",
      "20:52:23 RGB_132.png 0.05932166806524941\n",
      "20:53:12 RGB_138.png 0.061320010518012086\n",
      "20:54:01 RGB_139.png 0.11264147253285112\n",
      "20:54:50 RGB_141.png 0.06351364271028244\n",
      "20:55:38 RGB_145.png 0.07250687045890901\n",
      "20:56:26 RGB_160.png 0.05402529175895759\n",
      "20:57:15 RGB_170.png 0.07261973975347266\n",
      "20:58:03 RGB_181.png 0.05627439938752396\n",
      "20:58:52 RGB_182.png 0.11127608753792664\n",
      "20:59:40 RGB_190.png 0.04450366761654788\n",
      "21:00:28 RGB_192.png 0.04350318227943768\n",
      "21:01:16 RGB_206.png 0.07199072814985587\n",
      "21:02:03 RGB_212.png 0.012373063945469663\n",
      "21:02:51 RGB_214.png 0.020040662213186174\n",
      "21:03:39 RGB_226.png 0.03621788690993046\n",
      "21:04:27 RGB_228.png 0.047740952849003905\n",
      "21:05:15 RGB_234.png 0.04056639877535399\n",
      "21:06:03 RGB_237.png 0.07867308359836012\n",
      "21:06:52 RGB_247.png 0.06392655693623099\n",
      "21:07:40 RGB_248.png 0.05054701447705755\n",
      "21:08:27 RGB_254.png 0.04657403295770439\n",
      "OIS is 0.063328995893934 over 50 images.\n"
     ]
    }
   ],
   "source": [
    "import time\n",
    "\n",
    "gdrive_path = '../../'\n",
    "labels_path = gdrive_path + \"datasets/BIPED/edges/edge_maps/test/rgbr/\"\n",
    "output_path = gdrive_path + \"Model Results/BIPED2BIPED/vis/\"\n",
    "save_path = gdrive_path + \"Evaluation Metrics/Optimal Image Scale (OIS)/DeepEdgeNet_BIPED.txt\"\n",
    "\n",
    "img_name = os.listdir(labels_path)\n",
    "outputs = os.listdir(output_path)\n",
    "\n",
    "if os.path.exists(save_path):\n",
    "  save_file = open(save_path, 'r+')\n",
    "else:\n",
    "  save_file = open(save_path, 'w+')\n",
    "lines = save_file.readlines()\n",
    "\n",
    "totalOIS = 0\n",
    "img_name.sort()\n",
    "outputs.sort()\n",
    "assert len(img_name) == len(outputs)\n",
    "\n",
    "for i in range(len(img_name)):\n",
    "  if i < len(lines):\n",
    "    ois = float(lines[i].split(',')[1])\n",
    "  else:\n",
    "    assert img_name[i].split('.')[0] == outputs[i].split('.')[0]\n",
    "    label_img = imageio.imread(labels_path + img_name[i])\n",
    "    output_img = imageio.imread(output_path + outputs[i])\n",
    "    ois = OIS(label_img, output_img)\n",
    "    save_file.write(img_name[i].split('.')[0] + ',' + str(ois) + '\\n')\n",
    "\n",
    "  totalOIS += ois\n",
    "\n",
    "  t = time.localtime()\n",
    "  current_time = time.strftime(\"%H:%M:%S\", t)\n",
    "  print(current_time, img_name[i], ois)\n",
    "\n",
    "averageOIS = totalOIS / len(img_name)\n",
    "print(\"OIS is \" + str(averageOIS) + \" over \" + str(len(img_name)) + \" images.\")"
   ]
  },
  {
   "cell_type": "code",
   "execution_count": null,
   "metadata": {},
   "outputs": [],
   "source": []
  }
 ],
 "metadata": {
  "colab": {
   "authorship_tag": "ABX9TyPywNKkm8BdOMyUCK+cSBVA",
   "name": "Sobel_BIPED.ipynb",
   "provenance": []
  },
  "kernelspec": {
   "display_name": "Python 3",
   "language": "python",
   "name": "python3"
  },
  "language_info": {
   "codemirror_mode": {
    "name": "ipython",
    "version": 3
   },
   "file_extension": ".py",
   "mimetype": "text/x-python",
   "name": "python",
   "nbconvert_exporter": "python",
   "pygments_lexer": "ipython3",
   "version": "3.8.5"
  }
 },
 "nbformat": 4,
 "nbformat_minor": 1
}
