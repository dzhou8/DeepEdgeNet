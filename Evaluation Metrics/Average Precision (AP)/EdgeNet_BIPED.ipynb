{
 "cells": [
  {
   "cell_type": "code",
   "execution_count": 19,
   "metadata": {
    "colab": {
     "base_uri": "https://localhost:8080/"
    },
    "executionInfo": {
     "elapsed": 311,
     "status": "ok",
     "timestamp": 1604200861954,
     "user": {
      "displayName": "Dean Zhou",
      "photoUrl": "",
      "userId": "07778492507507851092"
     },
     "user_tz": 420
    },
    "id": "UfYnudJHgITi",
    "outputId": "31201aef-c63e-496a-b3ef-ce72d0b3ee0d"
   },
   "outputs": [
    {
     "name": "stdout",
     "output_type": "stream",
     "text": [
      "Drive already mounted at /content/drive; to attempt to forcibly remount, call drive.mount(\"/content/drive\", force_remount=True).\n"
     ]
    }
   ],
   "source": [
    "from google.colab import drive\n",
    "drive.mount('/content/drive')"
   ]
  },
  {
   "cell_type": "code",
   "execution_count": 1,
   "metadata": {
    "executionInfo": {
     "elapsed": 323,
     "status": "ok",
     "timestamp": 1604200862759,
     "user": {
      "displayName": "Dean Zhou",
      "photoUrl": "",
      "userId": "07778492507507851092"
     },
     "user_tz": 420
    },
    "id": "CNGBDx8Bipls"
   },
   "outputs": [],
   "source": [
    "import os\n",
    "import imageio\n",
    "import numpy as np"
   ]
  },
  {
   "cell_type": "code",
   "execution_count": 2,
   "metadata": {
    "executionInfo": {
     "elapsed": 317,
     "status": "ok",
     "timestamp": 1604200863421,
     "user": {
      "displayName": "Dean Zhou",
      "photoUrl": "",
      "userId": "07778492507507851092"
     },
     "user_tz": 420
    },
    "id": "mE32AuNAhB0x"
   },
   "outputs": [],
   "source": [
    "def AveragePrecision(label, output):\n",
    "\t# the 'Mean Squared Error' between the two images is the\n",
    "\t# sum of the squared difference between the two images;\n",
    "\t# NOTE: the two images must have the same dimension\n",
    "\tlabel_matrix = label.astype('float')\n",
    "\toutput_matrix = output.astype('float')\n",
    "\ttotalPrecision, numRel = 0, 0\n",
    "\tfor i in range(len(label_matrix)):\n",
    "\t\tfor j in range(len(label_matrix[i])):\n",
    "\t\t\tif label_matrix[i][j] == 255:\n",
    "\t\t\t\tnumRel += 1\n",
    "\t\t\t\ttotalPrecision += output_matrix[i][j] / 255\n",
    "\t\n",
    "\t# return the MSE, the lower the error, the more \"similar\"\n",
    "\t# the two images are\n",
    "\treturn totalPrecision / numRel"
   ]
  },
  {
   "cell_type": "code",
   "execution_count": 7,
   "metadata": {
    "colab": {
     "base_uri": "https://localhost:8080/"
    },
    "executionInfo": {
     "elapsed": 353343,
     "status": "ok",
     "timestamp": 1604201217710,
     "user": {
      "displayName": "Dean Zhou",
      "photoUrl": "",
      "userId": "07778492507507851092"
     },
     "user_tz": 420
    },
    "id": "8Fwe6cY2gThb",
    "outputId": "dc83ed50-47b4-450f-d1da-11eda7c3fe83"
   },
   "outputs": [
    {
     "name": "stdout",
     "output_type": "stream",
     "text": [
      "RGB_008.png 0.025479783864356252\n",
      "RGB_010.png 0.005215641629821821\n",
      "RGB_017.png 0.038363518977878965\n",
      "RGB_025.png 0.0066555740432612314\n",
      "RGB_029.png 0.026495777924865113\n",
      "RGB_033.png 0.014315744658204944\n",
      "RGB_035.png 0.01469339776660354\n",
      "RGB_039.png 0.015059714535391785\n",
      "RGB_042.png 0.015858362731199102\n",
      "RGB_052.png 0.012803261977573904\n",
      "RGB_056.png 0.014054935283074796\n",
      "RGB_057.png 0.016812658943204294\n",
      "RGB_059.png 0.01346168897237223\n",
      "RGB_066.png 0.009397411590140962\n",
      "RGB_067.png 0.012914446417998816\n",
      "RGB_070.png 0.022942687571972716\n",
      "RGB_071.png 0.011324639670555936\n",
      "RGB_075.png 0.009967593047235589\n",
      "RGB_081.png 0.0064516129032258064\n",
      "RGB_083.png 0.008085514595039056\n",
      "RGB_090.png 0.005249808293517372\n",
      "RGB_092.png 0.05329579330904273\n",
      "RGB_094.png 0.013816777515554601\n",
      "RGB_098.png 0.00997492641447727\n",
      "RGB_102.png 0.014591572344197463\n",
      "RGB_107.png 0.02142437356413955\n",
      "RGB_111.png 0.005984937430199593\n",
      "RGB_120.png 0.007854388110243627\n",
      "RGB_124.png 0.015240662502267955\n",
      "RGB_132.png 0.012672606581236022\n",
      "RGB_138.png 0.02823327615780446\n",
      "RGB_139.png 0.022398778248459175\n",
      "RGB_141.png 0.013861779204022893\n",
      "RGB_145.png 0.01289373485635168\n",
      "RGB_160.png 0.017744078793089972\n",
      "RGB_170.png 0.00910033406289598\n",
      "RGB_181.png 0.007645603777827749\n",
      "RGB_182.png 0.013739248945613939\n",
      "RGB_190.png 0.012587012491656337\n",
      "RGB_192.png 0.017177435096623072\n",
      "RGB_206.png 0.007933279088689993\n",
      "RGB_212.png 0.0019173784207774098\n",
      "RGB_214.png 0.017219865235837285\n",
      "RGB_226.png 0.017591339648173207\n",
      "RGB_228.png 0.011314726893552824\n",
      "RGB_234.png 0.020335429769392035\n",
      "RGB_237.png 0.014203566791212869\n",
      "RGB_247.png 0.013374958922116332\n",
      "RGB_248.png 0.0071141613659189825\n",
      "RGB_254.png 0.0060983934829108456\n",
      "mean AveragePrecision is 0.014658883888435604 over 50 images.\n"
     ]
    }
   ],
   "source": [
    "gdrive_path = '../../'\n",
    "labels_path = gdrive_path + \"datasets/BIPED/edges/edge_maps/test/rgbr/\"\n",
    "output_path = gdrive_path + \"Model Results/BIPED2BIPED/vis/\"\n",
    "\n",
    "img_name = os.listdir(labels_path)\n",
    "outputs = os.listdir(output_path)\n",
    "\n",
    "totalPrecision = 0\n",
    "img_name.sort()\n",
    "outputs.sort()\n",
    "assert len(img_name) == len(outputs)\n",
    "\n",
    "for i in range(len(img_name)):\n",
    "  assert img_name[i].split('.')[0] == outputs[i].split('.')[0]\n",
    "  label_img = imageio.imread(labels_path + img_name[i])\n",
    "  output_img = imageio.imread(output_path + outputs[i])\n",
    "  AP = AveragePrecision(label_img, output_img)\n",
    "  totalPrecision += AP\n",
    "  print(img_name[i], AP)\n",
    "\n",
    "meanAveragePrecision = totalPrecision / len(img_name)\n",
    "print(\"mean AveragePrecision is \" + str(meanAveragePrecision) + \" over \" + str(len(img_name)) + \" images.\")"
   ]
  },
  {
   "cell_type": "code",
   "execution_count": null,
   "metadata": {},
   "outputs": [],
   "source": []
  }
 ],
 "metadata": {
  "colab": {
   "authorship_tag": "ABX9TyPe5zk4IXhxFCpfAJNOQ+HL",
   "name": "Sobel_BIPED.ipynb",
   "provenance": []
  },
  "kernelspec": {
   "display_name": "Python 3",
   "language": "python",
   "name": "python3"
  },
  "language_info": {
   "codemirror_mode": {
    "name": "ipython",
    "version": 3
   },
   "file_extension": ".py",
   "mimetype": "text/x-python",
   "name": "python",
   "nbconvert_exporter": "python",
   "pygments_lexer": "ipython3",
   "version": "3.8.5"
  }
 },
 "nbformat": 4,
 "nbformat_minor": 1
}
